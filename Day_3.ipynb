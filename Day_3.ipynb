{
  "nbformat": 4,
  "nbformat_minor": 0,
  "metadata": {
    "colab": {
      "provenance": [],
      "authorship_tag": "ABX9TyPckBBhFarfLfiiqxL7RVOr",
      "include_colab_link": true
    },
    "kernelspec": {
      "name": "python3",
      "display_name": "Python 3"
    },
    "language_info": {
      "name": "python"
    }
  },
  "cells": [
    {
      "cell_type": "markdown",
      "metadata": {
        "id": "view-in-github",
        "colab_type": "text"
      },
      "source": [
        "<a href=\"https://colab.research.google.com/github/Gopichandkollu/Python-with-ML/blob/main/Day_3.ipynb\" target=\"_parent\"><img src=\"https://colab.research.google.com/assets/colab-badge.svg\" alt=\"Open In Colab\"/></a>"
      ]
    },
    {
      "cell_type": "code",
      "source": [
        "x =9\n",
        "if x%2 ==0:\n",
        "    print(\"Even\")\n",
        "else:\n",
        "    print(\"odd\")"
      ],
      "metadata": {
        "colab": {
          "base_uri": "https://localhost:8080/"
        },
        "id": "zjvV0LFKMe_9",
        "outputId": "f3055e2c-c4a4-44f5-f5b9-7c2aba785a95"
      },
      "execution_count": 1,
      "outputs": [
        {
          "output_type": "stream",
          "name": "stdout",
          "text": [
            "odd\n"
          ]
        }
      ]
    },
    {
      "cell_type": "code",
      "source": [
        "x=8"
      ],
      "metadata": {
        "id": "McYwCl0pMgcN"
      },
      "execution_count": 2,
      "outputs": []
    },
    {
      "cell_type": "code",
      "source": [
        "x%2==0"
      ],
      "metadata": {
        "colab": {
          "base_uri": "https://localhost:8080/"
        },
        "id": "pjUwwXPlMgZw",
        "outputId": "0d11c752-06c0-4a54-d3b1-2a86936b5bda"
      },
      "execution_count": 3,
      "outputs": [
        {
          "output_type": "execute_result",
          "data": {
            "text/plain": [
              "True"
            ]
          },
          "metadata": {},
          "execution_count": 3
        }
      ]
    },
    {
      "cell_type": "code",
      "source": [
        "x>6"
      ],
      "metadata": {
        "colab": {
          "base_uri": "https://localhost:8080/"
        },
        "id": "VYFSH3j6MgXD",
        "outputId": "61c9d4f6-59e3-4227-b40a-8164c2b7b81c"
      },
      "execution_count": 4,
      "outputs": [
        {
          "output_type": "execute_result",
          "data": {
            "text/plain": [
              "True"
            ]
          },
          "metadata": {},
          "execution_count": 4
        }
      ]
    },
    {
      "cell_type": "code",
      "source": [
        "x=-5.8\n",
        "if x>0:\n",
        "    print(\"positive\")\n",
        "elif x<0:\n",
        "    print(\"negative\")\n",
        "else:\n",
        "    print(\"Zero\")"
      ],
      "metadata": {
        "colab": {
          "base_uri": "https://localhost:8080/"
        },
        "id": "EY4S5k9qMgUh",
        "outputId": "10258aba-3036-49a5-e21f-d03d369c19f8"
      },
      "execution_count": 5,
      "outputs": [
        {
          "output_type": "stream",
          "name": "stdout",
          "text": [
            "negative\n"
          ]
        }
      ]
    },
    {
      "cell_type": "code",
      "source": [
        "x= 6\n",
        "if x>0:\n",
        "    print(\"positive\")\n",
        "    if x>10:\n",
        "        print(\"M\")\n",
        "    elif x<10:\n",
        "        print(\"K\")\n",
        "    else:\n",
        "        print(\"T\")\n",
        "elif x<0:\n",
        "    print(\"negative\")\n",
        "else:\n",
        "    print(\"Zero\")"
      ],
      "metadata": {
        "colab": {
          "base_uri": "https://localhost:8080/"
        },
        "id": "2mUKQRvsMgR2",
        "outputId": "7b1a62b6-a62f-4e24-c9c1-acec26867995"
      },
      "execution_count": 6,
      "outputs": [
        {
          "output_type": "stream",
          "name": "stdout",
          "text": [
            "positive\n",
            "K\n"
          ]
        }
      ]
    },
    {
      "source": [
        "x = input()\n",
        "if x:  # Check if x is not empty\n",
        "    x = float(x)  # Convert to float only if it's not empty\n",
        "    if x > 0:\n",
        "        print('pos')\n",
        "        if x > 20:\n",
        "            print('M')\n",
        "        elif x > 10:\n",
        "            print('P')\n",
        "        elif x < 10:\n",
        "            print('K')\n",
        "        else:\n",
        "            print('T')\n",
        "    elif x < 0:\n",
        "        print('neg')\n",
        "        if x < -20:\n",
        "            print('Q')\n",
        "        elif x > -10:\n",
        "            print('C')\n",
        "        elif x > -30:\n",
        "            print('Z')\n",
        "    else:\n",
        "        print('zero')\n",
        "else:\n",
        "    print(\"Please enter a numeric value.\") # Informing the user to enter a numeric value"
      ],
      "cell_type": "code",
      "metadata": {
        "colab": {
          "base_uri": "https://localhost:8080/"
        },
        "id": "nChMSCFENigT",
        "outputId": "1b753790-7d05-4e46-f25f-94191b9be2f2"
      },
      "execution_count": 7,
      "outputs": [
        {
          "output_type": "stream",
          "name": "stdout",
          "text": [
            "3\n",
            "pos\n",
            "K\n"
          ]
        }
      ]
    },
    {
      "cell_type": "code",
      "source": [
        "y=10\n",
        "if y>5:\n",
        "    print(\"M\")\n",
        "elif y>4:\n",
        "    print(\"K\")\n",
        "elif y>7:\n",
        "    print(\"H\")\n",
        "else:\n",
        "    print(\"O\")"
      ],
      "metadata": {
        "colab": {
          "base_uri": "https://localhost:8080/"
        },
        "id": "sXVFW0-iM6JH",
        "outputId": "f47362c2-44e8-42b3-d899-5480bc41fa24"
      },
      "execution_count": 8,
      "outputs": [
        {
          "output_type": "stream",
          "name": "stdout",
          "text": [
            "M\n"
          ]
        }
      ]
    },
    {
      "cell_type": "code",
      "source": [
        "x = 'telangana'\n",
        "x = 'Tiger'\n",
        "x = 'Tan'"
      ],
      "metadata": {
        "id": "ugOjr-MdM6Gj"
      },
      "execution_count": 9,
      "outputs": []
    },
    {
      "cell_type": "code",
      "source": [
        "x ='lion'\n",
        "x ='mumbai'"
      ],
      "metadata": {
        "id": "upnK6gHcM6Dx"
      },
      "execution_count": 10,
      "outputs": []
    },
    {
      "cell_type": "code",
      "source": [
        "x ='tiger'\n",
        "if x[0] =='t' or x[0]=='T':\n",
        "    print(\"Yes\")\n",
        "else:\n",
        "    print(\"No\")"
      ],
      "metadata": {
        "colab": {
          "base_uri": "https://localhost:8080/"
        },
        "id": "CwaWtzgIM6BM",
        "outputId": "d5634352-af1c-4c01-880a-e55873b055d3"
      },
      "execution_count": 11,
      "outputs": [
        {
          "output_type": "stream",
          "name": "stdout",
          "text": [
            "Yes\n"
          ]
        }
      ]
    },
    {
      "cell_type": "code",
      "source": [
        "x =input()\n",
        "if x[0] == 's' or x[0] == 't' or x[0]=='m' or x[0]==\"T\" or x[0]==\"S\"or x[0]==\"M\" :\n",
        "    print(\"Yes\")\n",
        "else:\n",
        "    print(\"NO\")"
      ],
      "metadata": {
        "colab": {
          "base_uri": "https://localhost:8080/"
        },
        "id": "mEr2SS6PNDPf",
        "outputId": "7411bcbf-4ddf-4540-c040-fffa36f5bc1d"
      },
      "execution_count": 12,
      "outputs": [
        {
          "output_type": "stream",
          "name": "stdout",
          "text": [
            "5\n",
            "NO\n"
          ]
        }
      ]
    },
    {
      "cell_type": "code",
      "source": [
        "x =input()\n",
        "if x[0].lower() in ('t','s','m'):\n",
        "    print(\"Yes\")\n",
        "else:\n",
        "    print(\"No\")"
      ],
      "metadata": {
        "colab": {
          "base_uri": "https://localhost:8080/"
        },
        "id": "QGoG7Ul8NDNI",
        "outputId": "8b07cb09-935e-460a-c8cc-2da6f7f1b08c"
      },
      "execution_count": 13,
      "outputs": [
        {
          "output_type": "stream",
          "name": "stdout",
          "text": [
            "t\n",
            "Yes\n"
          ]
        }
      ]
    },
    {
      "cell_type": "code",
      "source": [],
      "metadata": {
        "id": "gqjZ0S6JOlWr"
      },
      "execution_count": 13,
      "outputs": []
    }
  ]
}