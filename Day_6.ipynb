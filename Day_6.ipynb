{
  "cells": [
    {
      "cell_type": "markdown",
      "metadata": {
        "id": "view-in-github",
        "colab_type": "text"
      },
      "source": [
        "<a href=\"https://colab.research.google.com/github/Gopichandkollu/Python-with-ML/blob/main/Day_6.ipynb\" target=\"_parent\"><img src=\"https://colab.research.google.com/assets/colab-badge.svg\" alt=\"Open In Colab\"/></a>"
      ]
    },
    {
      "cell_type": "code",
      "execution_count": 1,
      "id": "0262db8c-78a3-45a8-8408-8c25845f7b08",
      "metadata": {
        "id": "0262db8c-78a3-45a8-8408-8c25845f7b08"
      },
      "outputs": [],
      "source": [
        "import numpy as np"
      ]
    },
    {
      "cell_type": "code",
      "execution_count": 2,
      "id": "9cd4b7f9-ac17-4ac0-9789-819d432e1f7d",
      "metadata": {
        "id": "9cd4b7f9-ac17-4ac0-9789-819d432e1f7d",
        "outputId": "62413034-6cbf-4317-a276-e4135075bc3c",
        "colab": {
          "base_uri": "https://localhost:8080/"
        }
      },
      "outputs": [
        {
          "output_type": "execute_result",
          "data": {
            "text/plain": [
              "[30, 20, 5, 8, 9]"
            ]
          },
          "metadata": {},
          "execution_count": 2
        }
      ],
      "source": [
        "h=[30,20,5,8,9]\n",
        "h"
      ]
    },
    {
      "cell_type": "code",
      "execution_count": 3,
      "id": "6f653a47-1a0c-4127-98ba-9902bd6a42cd",
      "metadata": {
        "id": "6f653a47-1a0c-4127-98ba-9902bd6a42cd"
      },
      "outputs": [],
      "source": [
        "d=[]\n",
        "for i in h:\n",
        "    d.append(i+5)"
      ]
    },
    {
      "cell_type": "code",
      "execution_count": 4,
      "id": "156b6bc6-e1a6-44c0-bea7-80820a3ebca2",
      "metadata": {
        "id": "156b6bc6-e1a6-44c0-bea7-80820a3ebca2",
        "outputId": "6f71c458-1cff-4dd7-a185-5b2e821ca6a0",
        "colab": {
          "base_uri": "https://localhost:8080/"
        }
      },
      "outputs": [
        {
          "output_type": "execute_result",
          "data": {
            "text/plain": [
              "[35, 25, 10, 13, 14]"
            ]
          },
          "metadata": {},
          "execution_count": 4
        }
      ],
      "source": [
        "d"
      ]
    },
    {
      "cell_type": "code",
      "execution_count": 5,
      "id": "e836b1c3-3fcd-48fb-bb9b-36aa28bc69a5",
      "metadata": {
        "id": "e836b1c3-3fcd-48fb-bb9b-36aa28bc69a5",
        "outputId": "48fac081-efeb-40b3-d8a0-e49945bde82f",
        "colab": {
          "base_uri": "https://localhost:8080/"
        }
      },
      "outputs": [
        {
          "output_type": "execute_result",
          "data": {
            "text/plain": [
              "(6, 2, 3, 9, 7, 5, 8)"
            ]
          },
          "metadata": {},
          "execution_count": 5
        }
      ],
      "source": [
        "s=(6,2,3,9,7,5,8)\n",
        "s"
      ]
    },
    {
      "cell_type": "code",
      "execution_count": 6,
      "id": "23d9745f-4a49-4130-a573-9588f9fc9b7c",
      "metadata": {
        "id": "23d9745f-4a49-4130-a573-9588f9fc9b7c",
        "outputId": "0cd1f657-92b5-4bcc-9fab-e88ef4870411",
        "colab": {
          "base_uri": "https://localhost:8080/"
        }
      },
      "outputs": [
        {
          "output_type": "execute_result",
          "data": {
            "text/plain": [
              "(36, 4, 9, 81, 49, 25, 64)"
            ]
          },
          "metadata": {},
          "execution_count": 6
        }
      ],
      "source": [
        "tuple (x**2 for x in s)"
      ]
    },
    {
      "cell_type": "code",
      "execution_count": 7,
      "id": "72b16e54-c1cf-4a3a-925e-dcc8328673bb",
      "metadata": {
        "id": "72b16e54-c1cf-4a3a-925e-dcc8328673bb",
        "outputId": "a1b32d0f-2076-4523-92c5-112e50de2fe6",
        "colab": {
          "base_uri": "https://localhost:8080/"
        }
      },
      "outputs": [
        {
          "output_type": "execute_result",
          "data": {
            "text/plain": [
              "(36, 4, 9, 81, 49, 25, 64)"
            ]
          },
          "metadata": {},
          "execution_count": 7
        }
      ],
      "source": [
        "y=list(s)\n",
        "k=[]\n",
        "for i in y:\n",
        "    k.append(i**2)\n",
        "s=tuple(k)\n",
        "s"
      ]
    },
    {
      "cell_type": "code",
      "execution_count": 8,
      "id": "95fd968e-50db-4106-a7f6-bff9f41e9250",
      "metadata": {
        "id": "95fd968e-50db-4106-a7f6-bff9f41e9250"
      },
      "outputs": [],
      "source": [
        "m=[]\n",
        "for i in s:\n",
        "    if i>30:\n",
        "        m.append(i)"
      ]
    },
    {
      "cell_type": "code",
      "execution_count": 9,
      "id": "99990e47-bc83-4b8f-ad7e-512307c0fabc",
      "metadata": {
        "id": "99990e47-bc83-4b8f-ad7e-512307c0fabc",
        "outputId": "85284343-2eff-47ef-edd6-307240be9073",
        "colab": {
          "base_uri": "https://localhost:8080/"
        }
      },
      "outputs": [
        {
          "output_type": "execute_result",
          "data": {
            "text/plain": [
              "[36, 81, 49, 64]"
            ]
          },
          "metadata": {},
          "execution_count": 9
        }
      ],
      "source": [
        "m"
      ]
    },
    {
      "cell_type": "code",
      "execution_count": 10,
      "id": "a86df34e-4138-4e34-b5b5-c2c9efc71696",
      "metadata": {
        "id": "a86df34e-4138-4e34-b5b5-c2c9efc71696",
        "outputId": "4cacc170-97bd-4fb0-e969-9c240983a107",
        "colab": {
          "base_uri": "https://localhost:8080/"
        }
      },
      "outputs": [
        {
          "output_type": "execute_result",
          "data": {
            "text/plain": [
              "array([20, 50, 30, 70, 80, 40, 36, 54, 23, 98])"
            ]
          },
          "metadata": {},
          "execution_count": 10
        }
      ],
      "source": [
        "arr=np.array([20,50,30,70,80,40,36,54,23,98])\n",
        "arr"
      ]
    },
    {
      "cell_type": "code",
      "execution_count": 11,
      "id": "df51321b-3513-4432-a4aa-56f56314ddd6",
      "metadata": {
        "scrolled": true,
        "id": "df51321b-3513-4432-a4aa-56f56314ddd6",
        "outputId": "3cc411e0-001e-42ba-8481-9b610961a844",
        "colab": {
          "base_uri": "https://localhost:8080/"
        }
      },
      "outputs": [
        {
          "output_type": "execute_result",
          "data": {
            "text/plain": [
              "array([ 25,  55,  35,  75,  85,  45,  41,  59,  28, 103])"
            ]
          },
          "metadata": {},
          "execution_count": 11
        }
      ],
      "source": [
        "arr+5"
      ]
    },
    {
      "cell_type": "code",
      "execution_count": 12,
      "id": "9f99b89e-d86e-41e9-96c9-ac65fbf12429",
      "metadata": {
        "id": "9f99b89e-d86e-41e9-96c9-ac65fbf12429",
        "outputId": "014ecb68-f500-4500-f699-43c06b4c9ed4",
        "colab": {
          "base_uri": "https://localhost:8080/"
        }
      },
      "outputs": [
        {
          "output_type": "execute_result",
          "data": {
            "text/plain": [
              "array([ 400, 2500,  900, 4900, 6400, 1600, 1296, 2916,  529, 9604])"
            ]
          },
          "metadata": {},
          "execution_count": 12
        }
      ],
      "source": [
        "arr**2"
      ]
    },
    {
      "cell_type": "code",
      "execution_count": 13,
      "id": "51a5697b-112b-4fdb-8ffc-fcbbe329e6d3",
      "metadata": {
        "id": "51a5697b-112b-4fdb-8ffc-fcbbe329e6d3",
        "outputId": "93e97700-9e00-4d7b-8818-f57cd4c0c82a",
        "colab": {
          "base_uri": "https://localhost:8080/"
        }
      },
      "outputs": [
        {
          "output_type": "execute_result",
          "data": {
            "text/plain": [
              "array([20, 50, 30, 70, 80, 40, 36, 54, 23, 98])"
            ]
          },
          "metadata": {},
          "execution_count": 13
        }
      ],
      "source": [
        "arr"
      ]
    },
    {
      "cell_type": "code",
      "execution_count": 14,
      "id": "cba2970a-8529-4167-a5fe-d3da0ffa012e",
      "metadata": {
        "scrolled": true,
        "id": "cba2970a-8529-4167-a5fe-d3da0ffa012e",
        "outputId": "4edc351d-c471-498c-9b8a-02a2d84248eb",
        "colab": {
          "base_uri": "https://localhost:8080/"
        }
      },
      "outputs": [
        {
          "output_type": "execute_result",
          "data": {
            "text/plain": [
              "array([70, 80, 54, 98])"
            ]
          },
          "metadata": {},
          "execution_count": 14
        }
      ],
      "source": [
        "arr[arr>50]"
      ]
    },
    {
      "cell_type": "code",
      "execution_count": 15,
      "id": "f02b12d8-6ad0-454a-99bf-d8de9ebd8e48",
      "metadata": {
        "id": "f02b12d8-6ad0-454a-99bf-d8de9ebd8e48",
        "outputId": "b8a3fa73-fbf6-4c3f-e81f-10344e1f68f5",
        "colab": {
          "base_uri": "https://localhost:8080/"
        }
      },
      "outputs": [
        {
          "output_type": "execute_result",
          "data": {
            "text/plain": [
              "array([], dtype=int64)"
            ]
          },
          "metadata": {},
          "execution_count": 15
        }
      ],
      "source": [
        "arr[arr<20]"
      ]
    },
    {
      "cell_type": "code",
      "execution_count": 16,
      "id": "508b1dc6-af61-4584-82f4-f3054958fb0b",
      "metadata": {
        "id": "508b1dc6-af61-4584-82f4-f3054958fb0b",
        "outputId": "ca8b8f2c-ba60-4d7d-dcb4-c192f7a127b5",
        "colab": {
          "base_uri": "https://localhost:8080/"
        }
      },
      "outputs": [
        {
          "output_type": "execute_result",
          "data": {
            "text/plain": [
              "(array([3, 4, 7, 9]),)"
            ]
          },
          "metadata": {},
          "execution_count": 16
        }
      ],
      "source": [
        "np.where(arr>50)"
      ]
    },
    {
      "cell_type": "code",
      "execution_count": 16,
      "id": "98a4e78e-4242-49c7-b2a9-cdfc59586ff1",
      "metadata": {
        "id": "98a4e78e-4242-49c7-b2a9-cdfc59586ff1"
      },
      "outputs": [],
      "source": []
    }
  ],
  "metadata": {
    "kernelspec": {
      "display_name": "Python 3 (ipykernel)",
      "language": "python",
      "name": "python3"
    },
    "language_info": {
      "codemirror_mode": {
        "name": "ipython",
        "version": 3
      },
      "file_extension": ".py",
      "mimetype": "text/x-python",
      "name": "python",
      "nbconvert_exporter": "python",
      "pygments_lexer": "ipython3",
      "version": "3.12.7"
    },
    "colab": {
      "provenance": [],
      "include_colab_link": true
    }
  },
  "nbformat": 4,
  "nbformat_minor": 5
}